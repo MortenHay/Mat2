{
 "cells": [
  {
   "cell_type": "markdown",
   "metadata": {},
   "source": [
    "# 01035 Matematik 2 Hjemopgave 7  \n",
    "**Morten Hay Sørensen s223872**  \n",
    "**1. november 2023**"
   ]
  },
  {
   "cell_type": "code",
   "execution_count": 2,
   "metadata": {},
   "outputs": [],
   "source": [
    "#imports\n",
    "from sympy import *\n",
    "init_printing()"
   ]
  },
  {
   "cell_type": "markdown",
   "metadata": {},
   "source": [
    "## Opgave 1)  \n",
    "Der er givet følgende inhomogene lineære differentialligningssystem"
   ]
  },
  {
   "cell_type": "code",
   "execution_count": 11,
   "metadata": {},
   "outputs": [
    {
     "data": {
      "text/latex": [
       "$\\displaystyle \\left[\\begin{matrix}\\frac{d}{d t} x_{1}{\\left(t \\right)}\\\\\\frac{d}{d t} x_{2}{\\left(t \\right)}\\end{matrix}\\right] = \\left[\\begin{matrix}x_{2}{\\left(t \\right)}\\\\- 9 x_{1}{\\left(t \\right)} - 6 x_{2}{\\left(t \\right)} + e^{i t}\\end{matrix}\\right]$"
      ],
      "text/plain": [
       "⎡d        ⎤                              \n",
       "⎢──(x₁(t))⎥   ⎡          x₂(t)          ⎤\n",
       "⎢dt       ⎥   ⎢                         ⎥\n",
       "⎢         ⎥ = ⎢                      ⅈ⋅t⎥\n",
       "⎢d        ⎥   ⎣-9⋅x₁(t) - 6⋅x₂(t) + ℯ   ⎦\n",
       "⎢──(x₂(t))⎥                              \n",
       "⎣dt       ⎦                              "
      ]
     },
     "execution_count": 11,
     "metadata": {},
     "output_type": "execute_result"
    }
   ],
   "source": [
    "#Definition af symboler\n",
    "t = symbols('t', real=True)\n",
    "x1,x2 = Function('x_1')(t),Function('x_2')(t)\n",
    "\n",
    "#Definition af differentialligninger\n",
    "deq1 = Eq(diff(x1,t),x2)\n",
    "deq2 = Eq(diff(x2,t),-9*x1-6*x2+exp(I*t))\n",
    "\n",
    "#Print af systemet\n",
    "Eq(Matrix([deq1.lhs,deq2.lhs]),Matrix([deq1.rhs,deq2.rhs]))"
   ]
  },
  {
   "cell_type": "markdown",
   "metadata": {},
   "source": [
    "### Opgave 1.1)  \n",
    "Der skal findes den fuldstændige løsning til det tilsvarende homogene ligningssystem på formen $\\mathbf{\\dot{x}} = \\mathbf{Ax}$. Systemmatricen kan let aflæses fra det homogene system som $\\mathbf{A}= \\begin{bmatrix}0&1\\\\-9&-6\\end{bmatrix}$. Det homogene system bliver da"
   ]
  },
  {
   "cell_type": "code",
   "execution_count": 13,
   "metadata": {},
   "outputs": [
    {
     "data": {
      "text/latex": [
       "$\\displaystyle \\left[\\begin{matrix}\\frac{d}{d t} x_{1}{\\left(t \\right)}\\\\\\frac{d}{d t} x_{2}{\\left(t \\right)}\\end{matrix}\\right] = \\left[\\begin{matrix}x_{2}{\\left(t \\right)}\\\\- 9 x_{1}{\\left(t \\right)} - 6 x_{2}{\\left(t \\right)}\\end{matrix}\\right]$"
      ],
      "text/plain": [
       "⎡d        ⎤                       \n",
       "⎢──(x₁(t))⎥                       \n",
       "⎢dt       ⎥   ⎡      x₂(t)       ⎤\n",
       "⎢         ⎥ = ⎢                  ⎥\n",
       "⎢d        ⎥   ⎣-9⋅x₁(t) - 6⋅x₂(t)⎦\n",
       "⎢──(x₂(t))⎥                       \n",
       "⎣dt       ⎦                       "
      ]
     },
     "execution_count": 13,
     "metadata": {},
     "output_type": "execute_result"
    }
   ],
   "source": [
    "#definition af matricer\n",
    "x = Matrix([x1,x2])\n",
    "A = Matrix([[0,1],[-9,-6]])\n",
    "\n",
    "#Definition af det homogene system\n",
    "dhom = Eq(diff(x,t),A*x)\n",
    "\n",
    "#Print af det homogene system\n",
    "dhom"
   ]
  },
  {
   "cell_type": "markdown",
   "metadata": {},
   "source": [
    "Der kan findes lineært uafhængige løsninger til systemet med sætning 2.11. Egenværdier og -vektorer for systemmatricen undersøges"
   ]
  },
  {
   "cell_type": "code",
   "execution_count": 14,
   "metadata": {},
   "outputs": [
    {
     "data": {
      "text/latex": [
       "$\\displaystyle \\left[ \\left( -3, \\  2, \\  \\left[ \\left[\\begin{matrix}- \\frac{1}{3}\\\\1\\end{matrix}\\right]\\right]\\right)\\right]$"
      ],
      "text/plain": [
       "⎡⎛       ⎡⎡-1/3⎤⎤⎞⎤\n",
       "⎢⎜-3, 2, ⎢⎢    ⎥⎥⎟⎥\n",
       "⎣⎝       ⎣⎣ 1  ⎦⎦⎠⎦"
      ]
     },
     "execution_count": 14,
     "metadata": {},
     "output_type": "execute_result"
    }
   ],
   "source": [
    "A.eigenvects()"
   ]
  },
  {
   "cell_type": "markdown",
   "metadata": {},
   "source": [
    "Der er altså en reel egenværdi $\\lambda = -3$ med algebrarisk mutiplicitet $p=2$ og den tilhørende egenvektor $\\mathbf{v}=\\begin{bmatrix}-1\\\\3\\end{bmatrix}$ med geometrisk multiplicitet $p > q = 1$. Med sætning 2.4 kan den første løsning opskrives som  \n",
    "$\\mathbf{x_1}(t)=\\mathbf{v}e^{\\lambda t} = \\begin{bmatrix}-1\\\\3\\end{bmatrix}e^{2 t},~~t\\in \\Reals$  \n",
    "Den næste løsning er så jf. sætning 2.11  \n",
    "$\\mathbf{x_2}(t) = \\mathbf{b_1}e^{2t}+\\mathbf{b_2}te^{2t}$  \n",
    "Dette kan løses ved at differentiere $x_2$ og indsætte det i differentialligningen.  \n",
    "$\\mathbf{\\dot{x}_2}(t) = 2\\mathbf{b_1}e^{2t}+\\mathbf{b_2}e^{2t}+2\\mathbf{b_2}te^{2t}$  \n",
    "$\\mathbf{x_2}$ er da en løsning til systemet for alle $t\\in \\Reals$ når  \n",
    "$\\mathbf{\\dot{x}_2}(t) = \\mathbf{Ax_2}(t),~~t\\in \\Reals \\Leftrightarrow\\\\ \n",
    "2\\mathbf{b_1}e^{2t}+\\mathbf{b_2}e^{2t}+2\\mathbf{b_2}te^{2t} = \\mathbf{Ab_1}e^{2t}+\\mathbf{Ab_2}te^{2t},~~t\\in \\Reals$  \n",
    "Systemet kan simplificeres ved at sætte $t=0 \\Rightarrow$  \n",
    "$2\\mathbf{b_1}+\\mathbf{b_2} = \\mathbf{Ab_1}$  \n",
    "Og $t=1\\Rightarrow$  \n",
    "$\\mathbf{Ab_2}=2\\mathbf{b_2}$  \n",
    "Disse ligninger viser, at $\\mathbf{b_2}$ skal være en egenvektor tilhørende egenværdien $\\lambda=2$. Det medfører $\\mathbf{b_2}=\\mathbf{v}=\\begin{bmatrix}-1\\\\3\\end{bmatrix}$  \n",
    "$\\mathbf{b_2} = (\\mathbf{A}-2\\mathbf{I})\\mathbf{b_1} = \\begin{bmatrix}-1\\\\3\\end{bmatrix}$  \n",
    "Denne ligning kan løses for $\\mathbf{b_1}$"
   ]
  },
  {
   "cell_type": "code",
   "execution_count": 23,
   "metadata": {},
   "outputs": [
    {
     "data": {
      "image/png": "[encoded data removed]",
      "text/latex": [
       "$\\displaystyle \\left\\{ b_{11} : \\frac{1}{5}, \\  b_{12} : - \\frac{3}{5}\\right\\}$"
      ],
      "text/plain": [
       "{b₁₁: 1/5, b₁₂: -3/5}"
      ]
     },
     "execution_count": 23,
     "metadata": {},
     "output_type": "execute_result"
    }
   ],
   "source": [
    "b1 = Matrix([Symbol('b_11'),Symbol('b_12')])\n",
    "b2 = Matrix([-1,3])\n",
    "eqb = Eq(b2,(A-2*eye(2))*b1)\n",
    "solve(eqb)"
   ]
  },
  {
   "cell_type": "markdown",
   "metadata": {},
   "source": [
    "Der kan altså vælges en vektor $\\mathbf{b_1} = \\begin{bmatrix}1\\\\-3\\end{bmatrix}$. Nu kan løsningen $\\mathbf{x_2}(t)$ altså opskrives  \n",
    "$\\mathbf{x_2}(t) = \\mathbf{b_1}e^{2t}+\\mathbf{b_2}te^{2t} = \\begin{bmatrix}1\\\\-3\\end{bmatrix}e^{2t} + \\begin{bmatrix}-1\\\\3\\end{bmatrix}te^{2t},~~t\\in\\Reals$  \n",
    "Den fuldstændige reelle løsning til det homogene system kan nu findes som en linearkombination af de to løsninger $\\mathbf{x_1}(t), \\mathbf{x_2}(t)$ med reelle koefficienter jf. sætning 2.12. Den fuldstændige løsning til det homogene differentialligningssystem er da  \n",
    "$\\mathbf{x_{hom}}(t) = c_1\\mathbf{x_1}(t)+c_2\\mathbf{x_2}(t) = c_1\\begin{bmatrix}-1\\\\3\\end{bmatrix}e^{2t}+c_2\\left( \\begin{bmatrix}1\\\\-3\\end{bmatrix}e^{2t} + \\begin{bmatrix}-1\\\\3\\end{bmatrix}te^{2t} \\right),~~c_1,c_2\\in\\Reals$"
   ]
  },
  {
   "cell_type": "markdown",
   "metadata": {},
   "source": [
    "### Opgave 1.2)  \n",
    "Der skal nu findes en partikulær løsning til det inhomogene system. Påtrykningen på differentialligningen kan skrives som $\\mathbf{u} = \\begin{bmatrix}0\\\\1\\end{bmatrix}e^{it}$. Da giver det mening at gætte på en partikulær løsning på formen $\\mathbf{x_p}(t) = \\mathbf{v_p}e^{it},~~\\mathbf{v_p}\\in\\Complex^2$. Dermed bliver $\\mathbf{\\dot{x}_p}(t) = i\\mathbf{v_p}e^{it}$. Det indsættes i differentialligningen  \n",
    "$i\\mathbf{v_p}e^{it} = \\begin{bmatrix}0&1\\\\-9&-6\\end{bmatrix}\\mathbf{v_p}e^{it}+\\begin{bmatrix}0\\\\1\\end{bmatrix}e^{it}$  \n",
    "Dette løses for $\\mathbf{v_p}\\in\\Complex^2$"
   ]
  },
  {
   "cell_type": "code",
   "execution_count": 27,
   "metadata": {},
   "outputs": [
    {
     "data": {
      "image/png": "[encoded data removed]",
      "text/latex": [
       "$\\displaystyle \\left\\{ v_{p1} : \\frac{2}{25} - \\frac{3 i}{50}, \\  v_{p2} : \\frac{3}{50} + \\frac{2 i}{25}\\right\\}$"
      ],
      "text/plain": [
       "⎧     2    3⋅ⅈ       3    2⋅ⅈ⎫\n",
       "⎨vₚ₁: ── - ───, vₚ₂: ── + ───⎬\n",
       "⎩     25    50       50    25⎭"
      ]
     },
     "execution_count": 27,
     "metadata": {},
     "output_type": "execute_result"
    }
   ],
   "source": [
    "#vp derfineres symbolsk\n",
    "vp = Matrix([Symbol('v_p1'),Symbol('v_p2')])\n",
    "\n",
    "#Den overstående ligning derfineres\n",
    "eqp = Eq(I*vp*exp(I*t), A*vp*exp(I*t)+Matrix([0,exp(I*t)]))\n",
    "\n",
    "#Ligningen løses for elemtenterne i vp\n",
    "vpsol = solve(eqp)[0]\n",
    "\n",
    "#Løsningen printes\n",
    "vpsol"
   ]
  },
  {
   "cell_type": "markdown",
   "metadata": {},
   "source": [
    "Der kan nu opskrives en $v_p$ "
   ]
  },
  {
   "cell_type": "code",
   "execution_count": 34,
   "metadata": {},
   "outputs": [
    {
     "data": {
      "text/latex": [
       "$\\displaystyle \\left[\\begin{matrix}v_{p1}\\\\v_{p2}\\end{matrix}\\right] = \\left[\\begin{matrix}\\frac{2}{25} - \\frac{3 i}{50}\\\\\\frac{3}{50} + \\frac{2 i}{25}\\end{matrix}\\right]$"
      ],
      "text/plain": [
       "        ⎡2    3⋅ⅈ⎤\n",
       "        ⎢── - ───⎥\n",
       "⎡vₚ₁⎤   ⎢25    50⎥\n",
       "⎢   ⎥ = ⎢        ⎥\n",
       "⎣vₚ₂⎦   ⎢3    2⋅ⅈ⎥\n",
       "        ⎢── + ───⎥\n",
       "        ⎣50    25⎦"
      ]
     },
     "execution_count": 34,
     "metadata": {},
     "output_type": "execute_result"
    }
   ],
   "source": [
    "vp = Matrix([Symbol('v_p1'),Symbol('v_p2')])\n",
    "vp = vp.subs(vpsol)\n",
    "Eq(Matrix([Symbol('v_p1'),Symbol('v_p2')]),vp)"
   ]
  },
  {
   "cell_type": "markdown",
   "metadata": {},
   "source": [
    "Da bliver den partikulære løsning $\\mathbf{x_p} = \\mathbf{v_p}e^{it} = \\left[\\begin{matrix}\\frac{2}{25} - \\frac{3 i}{50}\\\\\\frac{3}{50} + \\frac{2 i}{25}\\end{matrix}\\right]e^{it}$  "
   ]
  },
  {
   "cell_type": "markdown",
   "metadata": {},
   "source": [
    "### Opgave 1.3)  \n",
    "Den fuldstændige løsning til det inhomogene differentialligningssystem. Med sætning 1.20 få at den fuldstændige løsning er summen af løsningen til det homogene system og en partikulær løsning  \n",
    "$\\mathbf{x}(t) = \\mathbf{x_{hom}}(t)+\\mathbf{x_p}(t)~~t\\in\\Reals$.  \n",
    "Da begge disse er fundet, bliver den fuldstændige løsning    \n",
    "$\\mathbf{x}(t) = c_1\\begin{bmatrix}-1\\\\3\\end{bmatrix}e^{2t}+c_2\\left( \\begin{bmatrix}1\\\\-3\\end{bmatrix}e^{2t} + \\begin{bmatrix}-1\\\\3\\end{bmatrix}te^{2t} \\right)+\\left[\\begin{matrix}\\frac{2}{25} - \\frac{3 i}{50}\\\\\\frac{3}{50} + \\frac{2 i}{25}\\end{matrix}\\right]e^{it},~~c_1,c_2\\in\\Reals$"
   ]
  }
 ],
 "metadata": {
  "kernelspec": {
   "display_name": "math",
   "language": "python",
   "name": "python3"
  },
  "language_info": {
   "codemirror_mode": {
    "name": "ipython",
    "version": 3
   },
   "file_extension": ".py",
   "mimetype": "text/x-python",
   "name": "python",
   "nbconvert_exporter": "python",
   "pygments_lexer": "ipython3",
   "version": "3.10.13"
  }
 },
 "nbformat": 4,
 "nbformat_minor": 2
}
