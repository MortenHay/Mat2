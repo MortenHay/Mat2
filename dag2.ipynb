{
 "cells": [
  {
   "cell_type": "code",
   "execution_count": 3,
   "metadata": {},
   "outputs": [],
   "source": [
    "import sympy as sp\n",
    "import numpy as np\n",
    "sp.init_printing()"
   ]
  },
  {
   "cell_type": "code",
   "execution_count": 7,
   "metadata": {},
   "outputs": [
    {
     "data": {
      "text/latex": [
       "$\\displaystyle \\left[ \\left( -4, \\  1, \\  \\left[ \\left[\\begin{matrix}- \\frac{1}{3}\\\\1\\end{matrix}\\right]\\right]\\right), \\  \\left( 8, \\  1, \\  \\left[ \\left[\\begin{matrix}1\\\\1\\end{matrix}\\right]\\right]\\right)\\right]$"
      ],
      "text/plain": [
       "⎡⎛       ⎡⎡-1/3⎤⎤⎞  ⎛      ⎡⎡1⎤⎤⎞⎤\n",
       "⎢⎜-4, 1, ⎢⎢    ⎥⎥⎟, ⎜8, 1, ⎢⎢ ⎥⎥⎟⎥\n",
       "⎣⎝       ⎣⎣ 1  ⎦⎦⎠  ⎝      ⎣⎣1⎦⎦⎠⎦"
      ]
     },
     "execution_count": 7,
     "metadata": {},
     "output_type": "execute_result"
    }
   ],
   "source": [
    "#opgave 409\n",
    "A = sp.Matrix([[5,3],[9,-1]])\n",
    "A.eigenvects()"
   ]
  },
  {
   "cell_type": "code",
   "execution_count": 19,
   "metadata": {},
   "outputs": [
    {
     "data": {
      "text/latex": [
       "$\\displaystyle \\left[\\begin{matrix}5 & 3\\\\9 & -1\\end{matrix}\\right]$"
      ],
      "text/plain": [
       "⎡5  3 ⎤\n",
       "⎢     ⎥\n",
       "⎣9  -1⎦"
      ]
     },
     "execution_count": 19,
     "metadata": {},
     "output_type": "execute_result"
    }
   ],
   "source": [
    "A"
   ]
  },
  {
   "cell_type": "code",
   "execution_count": 28,
   "metadata": {},
   "outputs": [
    {
     "data": {
      "text/latex": [
       "$\\displaystyle \\left[\\begin{matrix}e^{8 t} & e^{- 4 t}\\\\e^{8 t} & - 3 e^{- 4 t}\\end{matrix}\\right]$"
      ],
      "text/plain": [
       "⎡ 8⋅t    -4⋅t  ⎤\n",
       "⎢ℯ      ℯ      ⎥\n",
       "⎢              ⎥\n",
       "⎢ 8⋅t      -4⋅t⎥\n",
       "⎣ℯ     -3⋅ℯ    ⎦"
      ]
     },
     "execution_count": 28,
     "metadata": {},
     "output_type": "execute_result"
    }
   ],
   "source": [
    "t = sp.Symbol('t')\n",
    "p=lambda t: sp.Matrix([[sp.exp(8*t),sp.exp(-4*t)],[sp.exp(8*t),-3*sp.exp(-4*t)]])\n",
    "p(t)\n"
   ]
  },
  {
   "cell_type": "code",
   "execution_count": 27,
   "metadata": {},
   "outputs": [
    {
     "data": {
      "text/latex": [
       "$\\displaystyle \\left[\\begin{matrix}3\\\\-5\\end{matrix}\\right]$"
      ],
      "text/plain": [
       "⎡3 ⎤\n",
       "⎢  ⎥\n",
       "⎣-5⎦"
      ]
     },
     "execution_count": 27,
     "metadata": {},
     "output_type": "execute_result"
    }
   ],
   "source": [
    "sp.Matrix([3,-5])"
   ]
  },
  {
   "cell_type": "code",
   "execution_count": 62,
   "metadata": {},
   "outputs": [],
   "source": [
    "tt = sp.symbols('tau')\n",
    "u = lambda t: sp.exp(4*t)*sp.Matrix([3,-5])\n",
    "x0 =p(t)*sp.integrate(p(tt).inv()*u(tt),(tt,0,t))"
   ]
  },
  {
   "cell_type": "code",
   "execution_count": 63,
   "metadata": {},
   "outputs": [
    {
     "data": {
      "text/latex": [
       "$\\displaystyle \\left[\\begin{matrix}0\\\\0\\end{matrix}\\right]$"
      ],
      "text/plain": [
       "⎡0⎤\n",
       "⎢ ⎥\n",
       "⎣0⎦"
      ]
     },
     "execution_count": 63,
     "metadata": {},
     "output_type": "execute_result"
    }
   ],
   "source": [
    "sp.diff(x0,t).simplify()-(A*x0+u(t)).simplify()"
   ]
  },
  {
   "cell_type": "code",
   "execution_count": 66,
   "metadata": {},
   "outputs": [
    {
     "data": {
      "text/latex": [
       "$\\displaystyle \\left[\\begin{matrix}\\frac{e^{8 t}}{4} - \\frac{e^{- 4 t}}{4}\\\\\\frac{e^{8 t}}{4} - e^{4 t} + \\frac{3 e^{- 4 t}}{4}\\end{matrix}\\right]$"
      ],
      "text/plain": [
       "⎡     8⋅t    -4⋅t     ⎤\n",
       "⎢    ℯ      ℯ         ⎥\n",
       "⎢    ──── - ─────     ⎥\n",
       "⎢     4       4       ⎥\n",
       "⎢                     ⎥\n",
       "⎢ 8⋅t             -4⋅t⎥\n",
       "⎢ℯ       4⋅t   3⋅ℯ    ⎥\n",
       "⎢──── - ℯ    + ───────⎥\n",
       "⎣ 4               4   ⎦"
      ]
     },
     "execution_count": 66,
     "metadata": {},
     "output_type": "execute_result"
    }
   ],
   "source": [
    "x0.expand()"
   ]
  },
  {
   "cell_type": "code",
   "execution_count": 75,
   "metadata": {},
   "outputs": [
    {
     "data": {
      "text/latex": [
       "$\\displaystyle \\left[\\begin{matrix}c_{1} e^{8 t} + c_{2} e^{- 4 t} + \\frac{e^{8 t}}{4} - \\frac{e^{- 4 t}}{4}\\\\c_{1} e^{8 t} - 3 c_{2} e^{- 4 t} + \\frac{e^{8 t}}{4} - e^{4 t} + \\frac{3 e^{- 4 t}}{4}\\end{matrix}\\right]$"
      ],
      "text/plain": [
       "⎡                           8⋅t    -4⋅t      ⎤\n",
       "⎢         8⋅t       -4⋅t   ℯ      ℯ          ⎥\n",
       "⎢     c₁⋅ℯ    + c₂⋅ℯ     + ──── - ─────      ⎥\n",
       "⎢                           4       4        ⎥\n",
       "⎢                                            ⎥\n",
       "⎢                        8⋅t             -4⋅t⎥\n",
       "⎢    8⋅t         -4⋅t   ℯ       4⋅t   3⋅ℯ    ⎥\n",
       "⎢c₁⋅ℯ    - 3⋅c₂⋅ℯ     + ──── - ℯ    + ───────⎥\n",
       "⎣                        4               4   ⎦"
      ]
     },
     "execution_count": 75,
     "metadata": {},
     "output_type": "execute_result"
    }
   ],
   "source": [
    "c1,c2 = sp.symbols('c_1,c_2')\n",
    "x = p(t)*sp.Matrix([c1,c2])+x0\n",
    "x.expand()"
   ]
  },
  {
   "cell_type": "code",
   "execution_count": 101,
   "metadata": {},
   "outputs": [
    {
     "data": {
      "text/latex": [
       "$\\displaystyle \\left[\\begin{matrix}i c_{2} e^{- i t} - i c_{3} e^{i t}\\\\c_{1} + c_{2} \\left(-2 - i\\right) e^{- i t} + c_{3} \\left(-2 + i\\right) e^{i t}\\\\c_{2} e^{- i t} + c_{3} e^{i t}\\end{matrix}\\right]$"
      ],
      "text/plain": [
       "⎡               -ⅈ⋅t         ⅈ⋅t          ⎤\n",
       "⎢         ⅈ⋅c₂⋅ℯ     - ⅈ⋅c₃⋅ℯ             ⎥\n",
       "⎢                                         ⎥\n",
       "⎢                  -ⅈ⋅t                ⅈ⋅t⎥\n",
       "⎢c₁ + c₂⋅(-2 - ⅈ)⋅ℯ     + c₃⋅(-2 + ⅈ)⋅ℯ   ⎥\n",
       "⎢                                         ⎥\n",
       "⎢               -ⅈ⋅t       ⅈ⋅t            ⎥\n",
       "⎣           c₂⋅ℯ     + c₃⋅ℯ               ⎦"
      ]
     },
     "execution_count": 101,
     "metadata": {},
     "output_type": "execute_result"
    }
   ],
   "source": [
    "#Oppgave 411\n",
    "c1,c2,c3,t=sp.symbols('c_1,c_2,c_3,t',real=True)\n",
    "A=sp.Matrix([[0,0,1],[2,0,-1],[-1,0,0]])\n",
    "Av=A.eigenvects()\n",
    "xc=c1*sp.exp(t*Av[0][0])*Av[0][2][0]+c2*sp.exp(t*Av[1][0])*Av[1][2][0]+c3*sp.exp(t*Av[2][0])*Av[2][2][0]\n",
    "xc"
   ]
  },
  {
   "cell_type": "code",
   "execution_count": 105,
   "metadata": {},
   "outputs": [
    {
     "data": {
      "text/latex": [
       "$\\displaystyle \\left[\\begin{matrix}c_{2} \\sin{\\left(t \\right)} - c_{3} \\cos{\\left(t \\right)}\\\\c_{1} - c_{2} \\left(\\sin{\\left(t \\right)} + 2 \\cos{\\left(t \\right)}\\right) - c_{3} \\cdot \\left(2 \\sin{\\left(t \\right)} - \\cos{\\left(t \\right)}\\right)\\\\c_{2} \\cos{\\left(t \\right)} + c_{3} \\sin{\\left(t \\right)}\\end{matrix}\\right]$"
      ],
      "text/plain": [
       "⎡               c₂⋅sin(t) - c₃⋅cos(t)                ⎤\n",
       "⎢                                                    ⎥\n",
       "⎢c₁ - c₂⋅(sin(t) + 2⋅cos(t)) - c₃⋅(2⋅sin(t) - cos(t))⎥\n",
       "⎢                                                    ⎥\n",
       "⎣               c₂⋅cos(t) + c₃⋅sin(t)                ⎦"
      ]
     },
     "execution_count": 105,
     "metadata": {},
     "output_type": "execute_result"
    }
   ],
   "source": [
    "a, b = sp.re(Av[2][0]), sp.im(Av[2][0])\n",
    "cexp = sp.exp(a*t)*(sp.cos(b*t) + sp.I*sp.sin(b*t))\n",
    "xr = c1*sp.exp(t*Av[0][0])*Av[0][2][0] + c2*sp.re(cexp*Av[2][2][0]) + c3*sp.im(cexp*Av[2][2][0])\n",
    "xr.simplify()"
   ]
  },
  {
   "cell_type": "code",
   "execution_count": 115,
   "metadata": {},
   "outputs": [
    {
     "data": {
      "text/latex": [
       "$\\displaystyle \\left( - b_{21} e^{- t} - b_{22} t e^{- t} + b_{22} e^{- t}, \\  \\left[\\begin{matrix}2 b_{21} e^{- t} + 2 b_{22} t e^{- t} & 9 b_{21} e^{- t} + 9 b_{22} t e^{- t}\\\\- b_{21} e^{- t} - b_{22} t e^{- t} & - 4 b_{21} e^{- t} - 4 b_{22} t e^{- t}\\end{matrix}\\right]\\right)$"
      ],
      "text/plain": [
       "⎛                                 ⎡       -t            -t          -t        \n",
       "⎜       -t          -t        -t  ⎢2⋅b₂₁⋅ℯ   + 2⋅b₂₂⋅t⋅ℯ     9⋅b₂₁⋅ℯ   + 9⋅b₂₂\n",
       "⎜- b₂₁⋅ℯ   - b₂₂⋅t⋅ℯ   + b₂₂⋅ℯ  , ⎢                                           \n",
       "⎜                                 ⎢        -t          -t            -t       \n",
       "⎝                                 ⎣ - b₂₁⋅ℯ   - b₂₂⋅t⋅ℯ     - 4⋅b₂₁⋅ℯ   - 4⋅b₂\n",
       "\n",
       "    -t ⎤⎞\n",
       "⋅t⋅ℯ   ⎥⎟\n",
       "       ⎥⎟\n",
       "     -t⎥⎟\n",
       "₂⋅t⋅ℯ  ⎦⎠"
      ]
     },
     "execution_count": 115,
     "metadata": {},
     "output_type": "execute_result"
    }
   ],
   "source": [
    "#Opgave 414\n",
    "A = sp.Matrix([[2,9],[-1,-4]])\n",
    "Av = A.eigenvects()\n",
    "v = Av[0][2][0]\n",
    "l = Av[0][0]\n",
    "x1 = sp.exp(l*t)*v\n",
    "\n",
    "b21, b22 = sp.symbols('b_21,b_22')\n",
    "\n",
    "x2 = b21 * sp.exp(l*t) + b22 * t * sp.exp(l*t)\n",
    "dx2 = sp.diff(x2,t)\n",
    "dx2,A*x2"
   ]
  },
  {
   "cell_type": "code",
   "execution_count": 120,
   "metadata": {},
   "outputs": [
    {
     "data": {
      "text/latex": [
       "$\\displaystyle \\left( b_{21} e^{- t} + b_{22} t e^{- t}, \\  -1, \\  - b_{21} e^{- t} - b_{22} t e^{- t} + b_{22} e^{- t}, \\  \\left[\\begin{matrix}-3\\\\1\\end{matrix}\\right]\\right)$"
      ],
      "text/plain": [
       "⎛     -t          -t             -t          -t        -t  ⎡-3⎤⎞\n",
       "⎜b₂₁⋅ℯ   + b₂₂⋅t⋅ℯ  , -1, - b₂₁⋅ℯ   - b₂₂⋅t⋅ℯ   + b₂₂⋅ℯ  , ⎢  ⎥⎟\n",
       "⎝                                                          ⎣1 ⎦⎠"
      ]
     },
     "execution_count": 120,
     "metadata": {},
     "output_type": "execute_result"
    }
   ],
   "source": [
    "x2, l, dx2, v"
   ]
  },
  {
   "cell_type": "code",
   "execution_count": 198,
   "metadata": {},
   "outputs": [
    {
     "data": {
      "text/latex": [
       "$\\displaystyle \\left[\\begin{matrix}- 2 c_{1} + c_{2} e^{5 t} + \\frac{2 t}{5} + \\frac{3 e^{5 t}}{25} - \\frac{3}{25}\\\\c_{1} + 2 c_{2} e^{5 t} - \\frac{t}{5} + \\frac{6 e^{5 t}}{25} - \\frac{6}{25}\\end{matrix}\\right]$"
      ],
      "text/plain": [
       "⎡                           5⋅t     ⎤\n",
       "⎢            5⋅t   2⋅t   3⋅ℯ      3 ⎥\n",
       "⎢-2⋅c₁ + c₂⋅ℯ    + ─── + ────── - ──⎥\n",
       "⎢                   5      25     25⎥\n",
       "⎢                                   ⎥\n",
       "⎢                         5⋅t       ⎥\n",
       "⎢            5⋅t   t   6⋅ℯ      6   ⎥\n",
       "⎢ c₁ + 2⋅c₂⋅ℯ    - ─ + ────── - ──  ⎥\n",
       "⎣                  5     25     25  ⎦"
      ]
     },
     "execution_count": 198,
     "metadata": {},
     "output_type": "execute_result"
    }
   ],
   "source": [
    "A=sp.Matrix([[1,2],[2,4]])\n",
    "u=sp.Matrix([1,1])\n",
    "Av=A.eigenvects()\n",
    "a,b = sp.symbols('a,b')\n",
    "p = lambda t: (Av[0][2][0]*sp.exp(Av[0][0]*t)).row_join(Av[1][2][0]*2*sp.exp(Av[1][0]*t))\n",
    "x0 = p(t)*sp.integrate(p(tt).inv()*u,(tt,0,t))\n",
    "x = p(t)*sp.Matrix([c1,c2])+x0\n",
    "x.expand()"
   ]
  },
  {
   "cell_type": "code",
   "execution_count": 199,
   "metadata": {},
   "outputs": [
    {
     "data": {
      "text/latex": [
       "$\\displaystyle \\left\\{ c_{1} : - \\frac{2}{5}, \\  c_{2} : \\frac{1}{5}\\right\\}$"
      ],
      "text/plain": [
       "{c₁: -2/5, c₂: 1/5}"
      ]
     },
     "execution_count": 199,
     "metadata": {},
     "output_type": "execute_result"
    }
   ],
   "source": [
    "c=sp.solve([x[0].subs(t,0)-1,x[1].subs(t,0)],c1,c2)\n",
    "c"
   ]
  },
  {
   "cell_type": "code",
   "execution_count": 200,
   "metadata": {},
   "outputs": [
    {
     "data": {
      "text/latex": [
       "$\\displaystyle \\left[\\begin{matrix}\\frac{2 t}{5} + \\frac{8 e^{5 t}}{25} + \\frac{17}{25}\\\\- \\frac{t}{5} + \\frac{16 e^{5 t}}{25} - \\frac{16}{25}\\end{matrix}\\right]$"
      ],
      "text/plain": [
       "⎡         5⋅t      ⎤\n",
       "⎢2⋅t   8⋅ℯ      17 ⎥\n",
       "⎢─── + ────── + ── ⎥\n",
       "⎢ 5      25     25 ⎥\n",
       "⎢                  ⎥\n",
       "⎢          5⋅t     ⎥\n",
       "⎢  t   16⋅ℯ      16⎥\n",
       "⎢- ─ + ─────── - ──⎥\n",
       "⎣  5      25     25⎦"
      ]
     },
     "execution_count": 200,
     "metadata": {},
     "output_type": "execute_result"
    }
   ],
   "source": [
    "x.subs(c).expand()"
   ]
  }
 ],
 "metadata": {
  "kernelspec": {
   "display_name": "math",
   "language": "python",
   "name": "python3"
  },
  "language_info": {
   "codemirror_mode": {
    "name": "ipython",
    "version": 3
   },
   "file_extension": ".py",
   "mimetype": "text/x-python",
   "name": "python",
   "nbconvert_exporter": "python",
   "pygments_lexer": "ipython3",
   "version": "3.10.12"
  },
  "orig_nbformat": 4
 },
 "nbformat": 4,
 "nbformat_minor": 2
}
