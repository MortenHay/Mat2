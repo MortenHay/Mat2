{
 "cells": [
  {
   "cell_type": "code",
   "execution_count": 7,
   "metadata": {},
   "outputs": [],
   "source": [
    "from sympy import *\n",
    "init_printing()"
   ]
  },
  {
   "cell_type": "code",
   "execution_count": 17,
   "metadata": {},
   "outputs": [
    {
     "data": {
      "text/latex": [
       "$\\displaystyle \\left[\\begin{matrix}\\frac{1}{s^{2} + 6 s + 10}\\end{matrix}\\right]$"
      ],
      "text/plain": [
       "⎡      1      ⎤\n",
       "⎢─────────────⎥\n",
       "⎢ 2           ⎥\n",
       "⎣s  + 6⋅s + 10⎦"
      ]
     },
     "execution_count": 17,
     "metadata": {},
     "output_type": "execute_result"
    }
   ],
   "source": [
    "#Q1\n",
    "s = symbols('s')\n",
    "t = symbols('t', real=True)\n",
    "A = Matrix([[0, 1], [-10, -6]])\n",
    "b = Matrix([0,1])\n",
    "d = Matrix([1,0])\n",
    "u = exp(s*t)\n",
    "\n",
    "H = -d.transpose()*(A-s*eye(2)).inv()*b\n",
    "H.simplify()\n",
    "H"
   ]
  },
  {
   "cell_type": "code",
   "execution_count": 18,
   "metadata": {},
   "outputs": [
    {
     "data": {
      "text/latex": [
       "$\\displaystyle \\left( \\left[\\begin{matrix}\\frac{1}{325}\\end{matrix}\\right], \\  \\left[\\begin{matrix}- \\frac{18}{325}\\end{matrix}\\right]\\right)$"
      ],
      "text/plain": [
       "⎛         ⎡-18 ⎤⎞\n",
       "⎜[1/325], ⎢────⎥⎟\n",
       "⎝         ⎣325 ⎦⎠"
      ]
     },
     "execution_count": 18,
     "metadata": {},
     "output_type": "execute_result"
    }
   ],
   "source": [
    "re(H.subs(s,I*3)), im(H.subs(s,I*3))"
   ]
  },
  {
   "cell_type": "code",
   "execution_count": 19,
   "metadata": {},
   "outputs": [
    {
     "data": {
      "image/png": "[encoded data removed]",
      "text/latex": [
       "$\\displaystyle - \\frac{2 \\sin{\\left(3 t \\right)}}{3}$"
      ],
      "text/plain": [
       "-2⋅sin(3⋅t) \n",
       "────────────\n",
       "     3      "
      ]
     },
     "execution_count": 19,
     "metadata": {},
     "output_type": "execute_result"
    }
   ],
   "source": [
    "u = I*exp(I*3*t)/3 - I*exp(-I*3*t)/3\n",
    "u.simplify()"
   ]
  },
  {
   "cell_type": "code",
   "execution_count": 21,
   "metadata": {},
   "outputs": [
    {
     "data": {
      "text/latex": [
       "$\\displaystyle \\left[\\begin{matrix}- \\frac{2 \\sin{\\left(3 t \\right)}}{975} + \\frac{12 \\cos{\\left(3 t \\right)}}{325}\\end{matrix}\\right]$"
      ],
      "text/plain": [
       "⎡  2⋅sin(3⋅t)   12⋅cos(3⋅t)⎤\n",
       "⎢- ────────── + ───────────⎥\n",
       "⎣     975           325    ⎦"
      ]
     },
     "execution_count": 21,
     "metadata": {},
     "output_type": "execute_result"
    }
   ],
   "source": [
    "sol = im(H.subs(s,I*3)*(-2*exp(I*3*t)/3))\n",
    "sol.simplify()"
   ]
  },
  {
   "cell_type": "code",
   "execution_count": 26,
   "metadata": {},
   "outputs": [
    {
     "data": {
      "image/png": "[encoded data removed]",
      "text/latex": [
       "$\\displaystyle \\operatorname{PurePoly}{\\left( \\lambda^{3} + 11 \\lambda^{2} + 55 \\lambda + 125, \\lambda, domain=\\mathbb{Z} \\right)}$"
      ],
      "text/plain": [
       "PurePoly(lambda**3 + 11*lambda**2 + 55*lambda + 125, lambda, domain='ZZ')"
      ]
     },
     "execution_count": 26,
     "metadata": {},
     "output_type": "execute_result"
    }
   ],
   "source": [
    "#Q2\n",
    "A = Matrix([[-3,4,0],[-4,-3,0],[-2,-4,-5]])\n",
    "P = A.charpoly(Symbol('lambda'))\n",
    "P"
   ]
  },
  {
   "cell_type": "code",
   "execution_count": 27,
   "metadata": {},
   "outputs": [
    {
     "data": {
      "text/plain": [
       "True"
      ]
     },
     "execution_count": 27,
     "metadata": {},
     "output_type": "execute_result"
    }
   ],
   "source": [
    "a1,a2,a3 = 11,55,125\n",
    "a1*a2-a3 > 0"
   ]
  },
  {
   "cell_type": "code",
   "execution_count": 32,
   "metadata": {},
   "outputs": [],
   "source": [
    "#Q3\n",
    "l = Symbol('lambda')\n",
    "a1,a2,a3,a4 = 12,12,12,9"
   ]
  },
  {
   "cell_type": "code",
   "execution_count": 35,
   "metadata": {},
   "outputs": [
    {
     "data": {
      "image/png": "[encoded data removed]",
      "text/latex": [
       "$\\displaystyle \\left( 132, \\  288\\right)$"
      ],
      "text/plain": [
       "(132, 288)"
      ]
     },
     "execution_count": 35,
     "metadata": {},
     "output_type": "execute_result"
    }
   ],
   "source": [
    "D2 = Determinant(Matrix([[a1,a3],[1,a2]])).doit()\n",
    "D3 = Determinant(Matrix([[a1,a3,0],[1,a2,a4],[0,a1,a3]])).doit()\n",
    "D2,D3"
   ]
  },
  {
   "cell_type": "code",
   "execution_count": 36,
   "metadata": {},
   "outputs": [
    {
     "data": {
      "image/png": "[encoded data removed]",
      "text/latex": [
       "$\\displaystyle 35 - a$"
      ],
      "text/plain": [
       "35 - a"
      ]
     },
     "execution_count": 36,
     "metadata": {},
     "output_type": "execute_result"
    }
   ],
   "source": [
    "#Q4\n",
    "a1,a2,a3 = 7,5,Symbol('a')\n",
    "D = a1*a2-a3\n",
    "D"
   ]
  }
 ],
 "metadata": {
  "kernelspec": {
   "display_name": "math",
   "language": "python",
   "name": "python3"
  },
  "language_info": {
   "codemirror_mode": {
    "name": "ipython",
    "version": 3
   },
   "file_extension": ".py",
   "mimetype": "text/x-python",
   "name": "python",
   "nbconvert_exporter": "python",
   "pygments_lexer": "ipython3",
   "version": "3.10.12"
  },
  "orig_nbformat": 4
 },
 "nbformat": 4,
 "nbformat_minor": 2
}
