{
 "cells": [
  {
   "cell_type": "code",
   "execution_count": 4,
   "metadata": {},
   "outputs": [],
   "source": [
    "from sympy import *\n",
    "init_printing()"
   ]
  },
  {
   "cell_type": "code",
   "execution_count": 14,
   "metadata": {},
   "outputs": [
    {
     "data": {
      "image/png": "[encoded data removed]",
      "text/latex": [
       "$\\displaystyle \\sum_{n=1}^{\\infty} \\left(-1\\right)^{n} 3^{- n - 2} \\left(x + 9\\right)^{n}$"
      ],
      "text/plain": [
       "  ∞                         \n",
       " ___                        \n",
       " ╲                          \n",
       "  ╲       n  -n - 2        n\n",
       "  ╱   (-1) ⋅3      ⋅(x + 9) \n",
       " ╱                          \n",
       " ‾‾‾                        \n",
       "n = 1                       "
      ]
     },
     "execution_count": 14,
     "metadata": {},
     "output_type": "execute_result"
    }
   ],
   "source": [
    "n = symbols('n', integer=True,positive=True)\n",
    "x = symbols('x', real=True)\n",
    "Sum(S(-1)**n/(3**(n+2))*(9+x)**n,(n,1,oo))"
   ]
  },
  {
   "cell_type": "code",
   "execution_count": 40,
   "metadata": {},
   "outputs": [
    {
     "data": {
      "text/latex": [
       "$\\displaystyle \\begin{cases} 6 & \\text{for}\\: x < - \\frac{5 \\pi}{8} \\\\3 & \\text{for}\\: x < \\frac{\\pi}{8} \\\\4 & \\text{for}\\: x < \\pi \\\\0 & \\text{otherwise} \\end{cases}$"
      ],
      "text/plain": [
       "⎧           -5⋅π \n",
       "⎪6  for x < ─────\n",
       "⎪             8  \n",
       "⎪                \n",
       "⎪             π  \n",
       "⎨3    for x < ─  \n",
       "⎪             8  \n",
       "⎪                \n",
       "⎪4    for x < π  \n",
       "⎪                \n",
       "⎩0    otherwise  "
      ]
     },
     "execution_count": 40,
     "metadata": {},
     "output_type": "execute_result"
    }
   ],
   "source": [
    "peq=Piecewise((6,(x<-5*pi/8)),(3,(x< 1*pi/8)),(4,(x<pi)),(0,True))\n",
    "peq"
   ]
  },
  {
   "cell_type": "code",
   "execution_count": 41,
   "metadata": {},
   "outputs": [
    {
     "data": {
      "image/png": "[encoded data removed]",
      "text/latex": [
       "$\\displaystyle \\left( 8, \\  -0.143435983760594, \\  \\frac{1}{2 \\pi}\\right)$"
      ],
      "text/plain": [
       "⎛                        1 ⎞\n",
       "⎜8, -0.143435983760594, ───⎟\n",
       "⎝                       2⋅π⎠"
      ]
     },
     "execution_count": 41,
     "metadata": {},
     "output_type": "execute_result"
    }
   ],
   "source": [
    "a0 = 1/pi*peq.integrate((x,-pi,pi))\n",
    "a7 = (1/pi*(peq*cos(7*x)).integrate((x,-pi,pi))).evalf()\n",
    "b4 = (1/pi*(peq*sin(4*x)).integrate((x,-pi,pi))).simplify()\n",
    "a0,a7,b4"
   ]
  },
  {
   "cell_type": "code",
   "execution_count": 45,
   "metadata": {},
   "outputs": [
    {
     "data": {
      "image/png": "[encoded data removed]",
      "text/latex": [
       "$\\displaystyle \\left( \\frac{2}{\\pi}, \\  - \\frac{4}{323 \\pi}, \\  0, \\  - \\frac{2}{323 \\pi}, \\  - \\frac{2}{99 \\pi}\\right)$"
      ],
      "text/plain": [
       "⎛2   -4        -2    -2  ⎞\n",
       "⎜─, ─────, 0, ─────, ────⎟\n",
       "⎝π  323⋅π     323⋅π  99⋅π⎠"
      ]
     },
     "execution_count": 45,
     "metadata": {},
     "output_type": "execute_result"
    }
   ],
   "source": [
    "peq = Piecewise((-sin(x),(x<0)),(sin(x),(x<pi)),(0,True))\n",
    "c = lambda n: (1/(2*pi)*(peq*exp(-I*n*x)).integrate((x,-pi,pi))).simplify()\n",
    "a = lambda n: (c(n)+c(-n)).simplify()\n",
    "b = lambda n: (I*(c(n)-c(-n))).simplify()\n",
    "c(0),a(18),b(2),c(18),c(-10)"
   ]
  }
 ],
 "metadata": {
  "kernelspec": {
   "display_name": "math",
   "language": "python",
   "name": "python3"
  },
  "language_info": {
   "codemirror_mode": {
    "name": "ipython",
    "version": 3
   },
   "file_extension": ".py",
   "mimetype": "text/x-python",
   "name": "python",
   "nbconvert_exporter": "python",
   "pygments_lexer": "ipython3",
   "version": "3.10.13"
  }
 },
 "nbformat": 4,
 "nbformat_minor": 2
}
