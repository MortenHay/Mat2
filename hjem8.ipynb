{
 "cells": [
  {
   "cell_type": "code",
   "execution_count": 1,
   "metadata": {},
   "outputs": [],
   "source": [
    "from sympy import *\n",
    "init_printing()"
   ]
  },
  {
   "cell_type": "code",
   "execution_count": 3,
   "metadata": {},
   "outputs": [
    {
     "data": {
      "image/png": "[encoded data removed]",
      "text/latex": [
       "$\\displaystyle y{\\left(t \\right)} = C_{1} \\sin{\\left(t \\right)} + C_{2} \\cos{\\left(t \\right)} + \\frac{a e^{t}}{2}$"
      ],
      "text/plain": [
       "                                  t\n",
       "                               a⋅ℯ \n",
       "y(t) = C₁⋅sin(t) + C₂⋅cos(t) + ────\n",
       "                                2  "
      ]
     },
     "execution_count": 3,
     "metadata": {},
     "output_type": "execute_result"
    }
   ],
   "source": [
    "t = Symbol('t', real=True, positive=True)\n",
    "a = Symbol('a', real=True)\n",
    "y= Function('y')(t)\n",
    "eq = Eq(diff(y,t,2)+y,a*exp(t))\n",
    "dsolve(eq,y)\n"
   ]
  },
  {
   "cell_type": "code",
   "execution_count": 4,
   "metadata": {},
   "outputs": [
    {
     "data": {
      "image/png": "[encoded data removed]",
      "text/latex": [
       "$\\displaystyle \\int \\left(a y{\\left(t \\right)} - \\sum_{_0=- N}^{N} \\frac{e^{i _0 t}}{_0^{2} + 3}\\right) e^{a t}\\, dt = C_{1}$"
      ],
      "text/plain": [
       "⌠                                        \n",
       "⎮ ⎛            N           ⎞             \n",
       "⎮ ⎜          _____         ⎟             \n",
       "⎮ ⎜          ╲             ⎟             \n",
       "⎮ ⎜           ╲            ⎟             \n",
       "⎮ ⎜            ╲     ⅈ⋅_0⋅t⎟             \n",
       "⎮ ⎜             ╲   ℯ      ⎟  a⋅t        \n",
       "⎮ ⎜a⋅y(t) -     ╱   ───────⎟⋅ℯ    dt = C₁\n",
       "⎮ ⎜            ╱      2    ⎟             \n",
       "⎮ ⎜           ╱     _0  + 3⎟             \n",
       "⎮ ⎜          ╱             ⎟             \n",
       "⎮ ⎜          ‾‾‾‾‾         ⎟             \n",
       "⎮ ⎝         _0 = -N        ⎠             \n",
       "⌡                                        "
      ]
     },
     "execution_count": 4,
     "metadata": {},
     "output_type": "execute_result"
    }
   ],
   "source": [
    "n,N = symbols('n,N', integer=True, positive=True)\n",
    "a = Symbol('a', real=True,nonzero=True)\n",
    "eq = Eq(diff(y,t)+a*y,Sum(1/(3+n**2)*exp(I*n*t),(n,-N,N)))\n",
    "dsolve(eq,y)"
   ]
  },
  {
   "cell_type": "code",
   "execution_count": 10,
   "metadata": {},
   "outputs": [
    {
     "data": {
      "image/png": "[encoded data removed]",
      "text/latex": [
       "$\\displaystyle \\sum_{n=-1}^{1} \\frac{e^{i n t}}{n^{2} + 3}$"
      ],
      "text/plain": [
       "  1          \n",
       "_____        \n",
       "╲            \n",
       " ╲           \n",
       "  ╲     ⅈ⋅n⋅t\n",
       "   ╲   ℯ     \n",
       "   ╱   ──────\n",
       "  ╱     2    \n",
       " ╱     n  + 3\n",
       "╱            \n",
       "‾‾‾‾‾        \n",
       "n = -1       "
      ]
     },
     "execution_count": 10,
     "metadata": {},
     "output_type": "execute_result"
    }
   ],
   "source": [
    "(Sum(1/(3+n**2)*exp(I*n*t),(n,-N,N)).subs(N,1)).evalf()"
   ]
  }
 ],
 "metadata": {
  "kernelspec": {
   "display_name": "math",
   "language": "python",
   "name": "python3"
  },
  "language_info": {
   "codemirror_mode": {
    "name": "ipython",
    "version": 3
   },
   "file_extension": ".py",
   "mimetype": "text/x-python",
   "name": "python",
   "nbconvert_exporter": "python",
   "pygments_lexer": "ipython3",
   "version": "3.10.13"
  }
 },
 "nbformat": 4,
 "nbformat_minor": 2
}
