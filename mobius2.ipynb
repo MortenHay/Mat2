{
 "cells": [
  {
   "cell_type": "code",
   "execution_count": 2,
   "metadata": {},
   "outputs": [],
   "source": [
    "import sympy as sp\n",
    "sp.init_printing()"
   ]
  },
  {
   "cell_type": "code",
   "execution_count": 31,
   "metadata": {},
   "outputs": [
    {
     "data": {
      "image/png": "[encoded data removed]",
      "text/latex": [
       "$\\displaystyle \\left[ -4, \\  0, \\  10\\right]$"
      ],
      "text/plain": [
       "[-4, 0, 10]"
      ]
     },
     "execution_count": 31,
     "metadata": {},
     "output_type": "execute_result"
    }
   ],
   "source": [
    "#Question 1.a\n",
    "t = sp.symbols('t')\n",
    "A = sp.Matrix([[3,sp.Rational(7/2),sp.Rational(-7/2)],[14,3,-3],[0,0,0]])\n",
    "l = [item[0] for item in A.eigenvects()]\n",
    "v = [item[2][0] for item in A.eigenvects()]\n",
    "l"
   ]
  },
  {
   "cell_type": "code",
   "execution_count": 32,
   "metadata": {},
   "outputs": [
    {
     "data": {
      "text/latex": [
       "$\\displaystyle \\left[\\begin{matrix}4 e^{10 t} + 2 e^{- 4 t}\\\\8 e^{10 t} + 4 - 4 e^{- 4 t}\\\\4\\end{matrix}\\right]$"
      ],
      "text/plain": [
       "⎡     10⋅t      -4⋅t  ⎤\n",
       "⎢  4⋅ℯ     + 2⋅ℯ      ⎥\n",
       "⎢                     ⎥\n",
       "⎢   10⋅t          -4⋅t⎥\n",
       "⎢8⋅ℯ     + 4 - 4⋅ℯ    ⎥\n",
       "⎢                     ⎥\n",
       "⎣          4          ⎦"
      ]
     },
     "execution_count": 32,
     "metadata": {},
     "output_type": "execute_result"
    }
   ],
   "source": [
    "#Question 1.b\n",
    "x = sp.Matrix([0,0,0])\n",
    "for i in range(len(l)):\n",
    "    x = x + sp.Symbol('c_{}'.format(i+1))*sp.exp(l[i]*t) * v[i]\n",
    "start = sp.Matrix([6,8,4])\n",
    "\n",
    "xpar = x.subs(sp.solve(sp.Eq(x.subs(t,0),start)))\n",
    "xpar"
   ]
  },
  {
   "cell_type": "code",
   "execution_count": 73,
   "metadata": {},
   "outputs": [
    {
     "data": {
      "text/latex": [
       "$\\displaystyle \\left( \\left[ -5 - 3 i, \\  -5 + 3 i\\right], \\  \\left[ \\left[\\begin{matrix}1\\\\-5 - 3 i\\end{matrix}\\right], \\  \\left[\\begin{matrix}1\\\\-5 + 3 i\\end{matrix}\\right]\\right]\\right)$"
      ],
      "text/plain": [
       "⎛                      ⎡⎡   1    ⎤  ⎡   1    ⎤⎤⎞\n",
       "⎜[-5 - 3⋅ⅈ, -5 + 3⋅ⅈ], ⎢⎢        ⎥, ⎢        ⎥⎥⎟\n",
       "⎝                      ⎣⎣-5 - 3⋅ⅈ⎦  ⎣-5 + 3⋅ⅈ⎦⎦⎠"
      ]
     },
     "execution_count": 73,
     "metadata": {},
     "output_type": "execute_result"
    }
   ],
   "source": [
    "#Question 2.a\n",
    "A = sp.Matrix([[0,1],[-34,-10]])\n",
    "Av = A.eigenvects()\n",
    "l = [item[0] for item in Av]\n",
    "v = [item[2][0]/item[2][0][0] for item in Av]\n",
    "v[0].simplify(), v[1].simplify()\n",
    "l,v"
   ]
  },
  {
   "cell_type": "code",
   "execution_count": 92,
   "metadata": {},
   "outputs": [
    {
     "data": {
      "text/latex": [
       "$\\displaystyle \\left[\\begin{matrix}\\left(c_{1} \\cos{\\left(3 t \\right)} - c_{2} \\sin{\\left(3 t \\right)}\\right) e^{- 5 t}\\\\\\left(- c_{1} \\cdot \\left(3 \\sin{\\left(3 t \\right)} + 5 \\cos{\\left(3 t \\right)}\\right) + c_{2} \\cdot \\left(5 \\sin{\\left(3 t \\right)} - 3 \\cos{\\left(3 t \\right)}\\right)\\right) e^{- 5 t}\\end{matrix}\\right]$"
      ],
      "text/plain": [
       "⎡                                              -5⋅t                  ⎤\n",
       "⎢                 (c₁⋅cos(3⋅t) - c₂⋅sin(3⋅t))⋅ℯ                      ⎥\n",
       "⎢                                                                    ⎥\n",
       "⎢                                                                -5⋅t⎥\n",
       "⎣(-c₁⋅(3⋅sin(3⋅t) + 5⋅cos(3⋅t)) + c₂⋅(5⋅sin(3⋅t) - 3⋅cos(3⋅t)))⋅ℯ    ⎦"
      ]
     },
     "execution_count": 92,
     "metadata": {},
     "output_type": "execute_result"
    }
   ],
   "source": [
    "#Question 2.c\n",
    "t = sp.symbols('t',real=True)\n",
    "c1, c2 = sp.symbols('c_1 c_2', real=True)\n",
    "x1 = sp.re(sp.exp(l[0]*t)*v[0])\n",
    "x1.simplify()\n",
    "x2 = sp.im(sp.exp(l[0]*t)*v[0])\n",
    "x2.simplify()\n",
    "x = c1*x1 + c2*x2\n",
    "x.simplify()"
   ]
  },
  {
   "cell_type": "code",
   "execution_count": 159,
   "metadata": {},
   "outputs": [
    {
     "data": {
      "text/latex": [
       "$\\displaystyle \\left[\\begin{matrix}-7.8\\\\1.6\\end{matrix}\\right]$"
      ],
      "text/plain": [
       "⎡-7.8⎤\n",
       "⎢    ⎥\n",
       "⎣1.6 ⎦"
      ]
     },
     "execution_count": 159,
     "metadata": {},
     "output_type": "execute_result"
    }
   ],
   "source": [
    "#Question 3.a\n",
    "P = sp.Matrix([[sp.exp(2*t),2*sp.exp(5*t)],[0,sp.exp(5*t)]])\n",
    "u = sp.Matrix([6,-8])\n",
    "x0 = lambda t0: P*sp.integrate(P.inv()*u,(t,t0,t))\n",
    "start = sp.Matrix([5,4])\n",
    "x0(10000).subs(t,0).evalf()"
   ]
  },
  {
   "cell_type": "code",
   "execution_count": 156,
   "metadata": {},
   "outputs": [
    {
     "data": {
      "text/latex": [
       "$\\displaystyle \\left[\\begin{matrix}e^{2 t} & 2 e^{5 t}\\\\0 & e^{5 t}\\end{matrix}\\right]$"
      ],
      "text/plain": [
       "⎡ 2⋅t     5⋅t⎤\n",
       "⎢ℯ     2⋅ℯ   ⎥\n",
       "⎢            ⎥\n",
       "⎢        5⋅t ⎥\n",
       "⎣ 0     ℯ    ⎦"
      ]
     },
     "execution_count": 156,
     "metadata": {},
     "output_type": "execute_result"
    }
   ],
   "source": [
    "P"
   ]
  }
 ],
 "metadata": {
  "kernelspec": {
   "display_name": "math",
   "language": "python",
   "name": "python3"
  },
  "language_info": {
   "codemirror_mode": {
    "name": "ipython",
    "version": 3
   },
   "file_extension": ".py",
   "mimetype": "text/x-python",
   "name": "python",
   "nbconvert_exporter": "python",
   "pygments_lexer": "ipython3",
   "version": "3.10.12"
  },
  "orig_nbformat": 4
 },
 "nbformat": 4,
 "nbformat_minor": 2
}
