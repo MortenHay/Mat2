{
 "cells": [
  {
   "cell_type": "code",
   "execution_count": 1,
   "metadata": {},
   "outputs": [],
   "source": [
    "import sympy as sp\n",
    "sp.init_printing()"
   ]
  },
  {
   "cell_type": "code",
   "execution_count": 16,
   "metadata": {},
   "outputs": [
    {
     "data": {
      "image/png": "[encoded data removed]",
      "text/latex": [
       "$\\displaystyle \\left[ -2, \\  0, \\  8\\right]$"
      ],
      "text/plain": [
       "[-2, 0, 8]"
      ]
     },
     "execution_count": 16,
     "metadata": {},
     "output_type": "execute_result"
    }
   ],
   "source": [
    "#Question 1.a\n",
    "t = sp.symbols('t')\n",
    "A = sp.Matrix([[3,sp.Rational(5/2),sp.Rational(-5/2)],[10,3,-3],[0,0,0]])\n",
    "l = [item[0] for item in A.eigenvects()]\n",
    "v = [item[2][0] for item in A.eigenvects()]\n",
    "l"
   ]
  },
  {
   "cell_type": "code",
   "execution_count": 17,
   "metadata": {},
   "outputs": [
    {
     "data": {
      "text/latex": [
       "$\\displaystyle \\left[\\begin{matrix}4 e^{8 t} + 3 e^{- 2 t}\\\\8 e^{8 t} + 1 - 6 e^{- 2 t}\\\\1\\end{matrix}\\right]$"
      ],
      "text/plain": [
       "⎡     8⋅t      -2⋅t  ⎤\n",
       "⎢  4⋅ℯ    + 3⋅ℯ      ⎥\n",
       "⎢                    ⎥\n",
       "⎢   8⋅t          -2⋅t⎥\n",
       "⎢8⋅ℯ    + 1 - 6⋅ℯ    ⎥\n",
       "⎢                    ⎥\n",
       "⎣         1          ⎦"
      ]
     },
     "execution_count": 17,
     "metadata": {},
     "output_type": "execute_result"
    }
   ],
   "source": [
    "#Question 1.b\n",
    "x = sp.Matrix([0,0,0])\n",
    "for i in range(len(l)):\n",
    "    x = x + sp.Symbol('c_{}'.format(i+1))*sp.exp(l[i]*t) * v[i]\n",
    "start = sp.Matrix([7,3,1])\n",
    "\n",
    "xpar = x.subs(sp.solve(sp.Eq(x.subs(t,0),start)))\n",
    "xpar"
   ]
  },
  {
   "cell_type": "code",
   "execution_count": 18,
   "metadata": {},
   "outputs": [
    {
     "data": {
      "text/latex": [
       "$\\displaystyle \\left( \\left[ -5 - 4 i, \\  -5 + 4 i\\right], \\  \\left[ \\left[\\begin{matrix}1\\\\-5 - 4 i\\end{matrix}\\right], \\  \\left[\\begin{matrix}1\\\\-5 + 4 i\\end{matrix}\\right]\\right]\\right)$"
      ],
      "text/plain": [
       "⎛                      ⎡⎡   1    ⎤  ⎡   1    ⎤⎤⎞\n",
       "⎜[-5 - 4⋅ⅈ, -5 + 4⋅ⅈ], ⎢⎢        ⎥, ⎢        ⎥⎥⎟\n",
       "⎝                      ⎣⎣-5 - 4⋅ⅈ⎦  ⎣-5 + 4⋅ⅈ⎦⎦⎠"
      ]
     },
     "execution_count": 18,
     "metadata": {},
     "output_type": "execute_result"
    }
   ],
   "source": [
    "#Question 2.a\n",
    "A = sp.Matrix([[0,1],[-41,-10]])\n",
    "Av = A.eigenvects()\n",
    "l = [item[0] for item in Av]\n",
    "v = [item[2][0]/item[2][0][0] for item in Av]\n",
    "v[0].simplify(), v[1].simplify()\n",
    "l,v"
   ]
  },
  {
   "cell_type": "code",
   "execution_count": 19,
   "metadata": {},
   "outputs": [
    {
     "data": {
      "text/latex": [
       "$\\displaystyle \\left[\\begin{matrix}\\left(c_{1} \\cos{\\left(4 t \\right)} - c_{2} \\sin{\\left(4 t \\right)}\\right) e^{- 5 t}\\\\\\left(- c_{1} \\cdot \\left(4 \\sin{\\left(4 t \\right)} + 5 \\cos{\\left(4 t \\right)}\\right) + c_{2} \\cdot \\left(5 \\sin{\\left(4 t \\right)} - 4 \\cos{\\left(4 t \\right)}\\right)\\right) e^{- 5 t}\\end{matrix}\\right]$"
      ],
      "text/plain": [
       "⎡                                              -5⋅t                  ⎤\n",
       "⎢                 (c₁⋅cos(4⋅t) - c₂⋅sin(4⋅t))⋅ℯ                      ⎥\n",
       "⎢                                                                    ⎥\n",
       "⎢                                                                -5⋅t⎥\n",
       "⎣(-c₁⋅(4⋅sin(4⋅t) + 5⋅cos(4⋅t)) + c₂⋅(5⋅sin(4⋅t) - 4⋅cos(4⋅t)))⋅ℯ    ⎦"
      ]
     },
     "execution_count": 19,
     "metadata": {},
     "output_type": "execute_result"
    }
   ],
   "source": [
    "#Question 2.c\n",
    "t = sp.symbols('t',real=True)\n",
    "c1, c2 = sp.symbols('c_1 c_2', real=True)\n",
    "x1 = sp.re(sp.exp(l[0]*t)*v[0])\n",
    "x1.simplify()\n",
    "x2 = sp.im(sp.exp(l[0]*t)*v[0])\n",
    "x2.simplify()\n",
    "x = c1*x1 + c2*x2\n",
    "x.simplify()"
   ]
  },
  {
   "cell_type": "code",
   "execution_count": 20,
   "metadata": {},
   "outputs": [
    {
     "data": {
      "text/latex": [
       "$\\displaystyle \\left[\\begin{matrix}- \\frac{18 e^{5 t}}{5} + \\frac{11 e^{4 t}}{2} - \\frac{19}{10}\\\\\\frac{9}{5} - \\frac{9 e^{5 t}}{5}\\end{matrix}\\right]$"
      ],
      "text/plain": [
       "⎡      5⋅t       4⋅t     ⎤\n",
       "⎢  18⋅ℯ      11⋅ℯ      19⎥\n",
       "⎢- ─────── + ─────── - ──⎥\n",
       "⎢     5         2      10⎥\n",
       "⎢                        ⎥\n",
       "⎢              5⋅t       ⎥\n",
       "⎢       9   9⋅ℯ          ⎥\n",
       "⎢       ─ - ──────       ⎥\n",
       "⎣       5     5          ⎦"
      ]
     },
     "execution_count": 20,
     "metadata": {},
     "output_type": "execute_result"
    }
   ],
   "source": [
    "#Question 3.a\n",
    "P = sp.Matrix([[sp.exp(4*t),2*sp.exp(5*t)],[0,sp.exp(5*t)]])\n",
    "u = sp.Matrix([4,-9])\n",
    "x0 = P*sp.integrate(P.inv()*u,(t,0,t))\n",
    "x0.simplify()\n"
   ]
  },
  {
   "cell_type": "code",
   "execution_count": 21,
   "metadata": {},
   "outputs": [
    {
     "data": {
      "text/latex": [
       "$\\displaystyle \\left[\\begin{matrix}\\frac{32 e^{5 t}}{5} - \\frac{e^{4 t}}{2} - \\frac{19}{10}\\\\\\frac{16 e^{5 t}}{5} + \\frac{9}{5}\\end{matrix}\\right]$"
      ],
      "text/plain": [
       "⎡    5⋅t    4⋅t     ⎤\n",
       "⎢32⋅ℯ      ℯ      19⎥\n",
       "⎢─────── - ──── - ──⎥\n",
       "⎢   5       2     10⎥\n",
       "⎢                   ⎥\n",
       "⎢        5⋅t        ⎥\n",
       "⎢    16⋅ℯ      9    ⎥\n",
       "⎢    ─────── + ─    ⎥\n",
       "⎣       5      5    ⎦"
      ]
     },
     "execution_count": 21,
     "metadata": {},
     "output_type": "execute_result"
    }
   ],
   "source": [
    "start = sp.Matrix([4,5])\n",
    "x = P*sp.Matrix([sp.Symbol('c_1'),sp.Symbol('c_2')]) + x0\n",
    "x.simplify()\n",
    "xpar = x.subs(sp.solve(sp.Eq(x.subs(t,0),start)))\n",
    "xpar.simplify()"
   ]
  }
 ],
 "metadata": {
  "kernelspec": {
   "display_name": "math",
   "language": "python",
   "name": "python3"
  },
  "language_info": {
   "codemirror_mode": {
    "name": "ipython",
    "version": 3
   },
   "file_extension": ".py",
   "mimetype": "text/x-python",
   "name": "python",
   "nbconvert_exporter": "python",
   "pygments_lexer": "ipython3",
   "version": "3.10.12"
  },
  "orig_nbformat": 4
 },
 "nbformat": 4,
 "nbformat_minor": 2
}
