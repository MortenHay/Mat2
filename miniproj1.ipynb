{
 "cells": [
  {
   "cell_type": "code",
   "execution_count": 2,
   "metadata": {},
   "outputs": [],
   "source": [
    "from sympy import *\n",
    "init_printing()"
   ]
  },
  {
   "cell_type": "code",
   "execution_count": 3,
   "metadata": {},
   "outputs": [
    {
     "data": {
      "image/png": "[encoded data removed]",
      "text/latex": [
       "$\\displaystyle - \\frac{\\alpha}{2} - \\frac{\\beta}{2} - \\frac{\\sqrt{- \\left(- \\alpha + \\beta + 2\\right) \\left(\\alpha - \\beta + 2\\right)}}{2}$"
      ],
      "text/plain": [
       "            ___________________________\n",
       "  α   β   ╲╱ -(-α + β + 2)⋅(α - β + 2) \n",
       "- ─ - ─ - ─────────────────────────────\n",
       "  2   2                 2              "
      ]
     },
     "execution_count": 3,
     "metadata": {},
     "output_type": "execute_result"
    }
   ],
   "source": [
    "t = Symbol('t', real = True)\n",
    "l = Symbol('lambda')\n",
    "al, be = symbols('alpha beta', real = True, positive = True)\n",
    "P = Eq(l**3 + (al + be)*l**2 + (1+al*be)*l,0)\n",
    "ev = solve(P,l)\n",
    "ev[1].simplify()"
   ]
  },
  {
   "cell_type": "code",
   "execution_count": 4,
   "metadata": {},
   "outputs": [
    {
     "data": {
      "image/png": "[encoded data removed]",
      "text/latex": [
       "$\\displaystyle \\left( \\frac{1}{s^{3} + s^{2} \\left(\\alpha + \\beta\\right) + s \\left(\\alpha \\beta + 1\\right)}, \\  \\frac{1}{- \\alpha - \\beta + i \\left(\\alpha \\beta + 1\\right) - i}\\right)$"
      ],
      "text/plain": [
       "⎛              1                           1            ⎞\n",
       "⎜─────────────────────────────, ────────────────────────⎟\n",
       "⎜ 3    2                        -α - β + ⅈ⋅(α⋅β + 1) - ⅈ⎟\n",
       "⎝s  + s ⋅(α + β) + s⋅(α⋅β + 1)                          ⎠"
      ]
     },
     "execution_count": 4,
     "metadata": {},
     "output_type": "execute_result"
    }
   ],
   "source": [
    "H = lambda s: 1/(s**3+(al+be)*s**2+(1+al*be)*s)\n",
    "H(Symbol('s')),H(I)"
   ]
  },
  {
   "cell_type": "code",
   "execution_count": 10,
   "metadata": {},
   "outputs": [
    {
     "data": {
      "image/png": "[encoded data removed]",
      "text/latex": [
       "$\\displaystyle \\left[ 0, \\  - \\frac{\\alpha}{2} - \\frac{\\beta}{2} - \\frac{\\sqrt{\\left(\\alpha - \\beta - 2\\right) \\left(\\alpha - \\beta + 2\\right)}}{2}, \\  - \\frac{\\alpha}{2} - \\frac{\\beta}{2} + \\frac{\\sqrt{\\left(\\alpha - \\beta - 2\\right) \\left(\\alpha - \\beta + 2\\right)}}{2}\\right]$"
      ],
      "text/plain": [
       "⎡               _________________________              _______________________\n",
       "⎢     α   β   ╲╱ (α - β - 2)⋅(α - β + 2)     α   β   ╲╱ (α - β - 2)⋅(α - β + 2\n",
       "⎢0, - ─ - ─ - ───────────────────────────, - ─ - ─ + ─────────────────────────\n",
       "⎣     2   2                2                 2   2                2           \n",
       "\n",
       "__⎤\n",
       ") ⎥\n",
       "──⎥\n",
       "  ⎦"
      ]
     },
     "execution_count": 10,
     "metadata": {},
     "output_type": "execute_result"
    }
   ],
   "source": [
    "solve(Eq(denom(H(Symbol('s'))),0),Symbol('s'))"
   ]
  },
  {
   "cell_type": "code",
   "execution_count": 8,
   "metadata": {},
   "outputs": [
    {
     "data": {
      "image/png": "[encoded data removed]",
      "text/latex": [
       "$\\displaystyle s^{3} + s^{2} \\left(\\alpha + \\beta\\right) + s \\left(\\alpha \\beta + 1\\right)$"
      ],
      "text/plain": [
       " 3    2                      \n",
       "s  + s ⋅(α + β) + s⋅(α⋅β + 1)"
      ]
     },
     "execution_count": 8,
     "metadata": {},
     "output_type": "execute_result"
    }
   ],
   "source": []
  },
  {
   "cell_type": "code",
   "execution_count": 5,
   "metadata": {},
   "outputs": [
    {
     "data": {
      "image/png": "[encoded data removed]",
      "text/latex": [
       "$\\displaystyle - \\frac{e^{i t}}{- i \\alpha \\beta + \\alpha + \\beta}$"
      ],
      "text/plain": [
       "      ⅈ⋅t     \n",
       "    -ℯ        \n",
       "──────────────\n",
       "-ⅈ⋅α⋅β + α + β"
      ]
     },
     "execution_count": 5,
     "metadata": {},
     "output_type": "execute_result"
    }
   ],
   "source": [
    "x0 = (H(I)*exp(I*t))\n",
    "x0.simplify()"
   ]
  },
  {
   "cell_type": "code",
   "execution_count": 6,
   "metadata": {},
   "outputs": [
    {
     "data": {
      "image/png": "[encoded data removed]",
      "text/latex": [
       "$\\displaystyle - \\operatorname{im}{\\left(\\frac{e^{i t}}{- i \\alpha \\beta + \\alpha + \\beta}\\right)}$"
      ],
      "text/plain": [
       "   ⎛      ⅈ⋅t     ⎞\n",
       "   ⎜     ℯ        ⎟\n",
       "-im⎜──────────────⎟\n",
       "   ⎝-ⅈ⋅α⋅β + α + β⎠"
      ]
     },
     "execution_count": 6,
     "metadata": {},
     "output_type": "execute_result"
    }
   ],
   "source": [
    "im(x0).simplify()"
   ]
  },
  {
   "cell_type": "code",
   "execution_count": 11,
   "metadata": {},
   "outputs": [
    {
     "data": {
      "image/png": "[encoded data removed]",
      "text/latex": [
       "$\\displaystyle \\frac{\\left(- i \\alpha \\beta - \\alpha - \\beta\\right) e^{i t}}{\\alpha^{2} \\beta^{2} + \\left(\\alpha + \\beta\\right)^{2}}$"
      ],
      "text/plain": [
       "                  ⅈ⋅t\n",
       "(-ⅈ⋅α⋅β - α - β)⋅ℯ   \n",
       "─────────────────────\n",
       "    2  2          2  \n",
       "   α ⋅β  + (α + β)   "
      ]
     },
     "execution_count": 11,
     "metadata": {},
     "output_type": "execute_result"
    }
   ],
   "source": [
    "(-(al+be+I*al*be)/((al+be)**2+al**2*be**2))*exp(I*t)"
   ]
  },
  {
   "cell_type": "code",
   "execution_count": 7,
   "metadata": {},
   "outputs": [
    {
     "data": {
      "image/png": "[encoded data removed]",
      "text/latex": [
       "$\\displaystyle - \\frac{\\alpha \\beta \\cos{\\left(t \\right)}}{\\alpha^{2} \\beta^{2} + \\left(\\alpha + \\beta\\right)^{2}} + \\frac{\\left(- \\alpha - \\beta\\right) \\sin{\\left(t \\right)}}{\\alpha^{2} \\beta^{2} + \\left(\\alpha + \\beta\\right)^{2}}$"
      ],
      "text/plain": [
       "     α⋅β⋅cos(t)      (-α - β)⋅sin(t) \n",
       "- ──────────────── + ────────────────\n",
       "   2  2          2    2  2          2\n",
       "  α ⋅β  + (α + β)    α ⋅β  + (α + β) "
      ]
     },
     "execution_count": 7,
     "metadata": {},
     "output_type": "execute_result"
    }
   ],
   "source": [
    "im((-(al+be+I*al*be)/((al+be)**2+al**2*be**2))*exp(I*t))"
   ]
  }
 ],
 "metadata": {
  "kernelspec": {
   "display_name": "math",
   "language": "python",
   "name": "python3"
  },
  "language_info": {
   "codemirror_mode": {
    "name": "ipython",
    "version": 3
   },
   "file_extension": ".py",
   "mimetype": "text/x-python",
   "name": "python",
   "nbconvert_exporter": "python",
   "pygments_lexer": "ipython3",
   "version": "3.10.13"
  },
  "orig_nbformat": 4
 },
 "nbformat": 4,
 "nbformat_minor": 2
}
