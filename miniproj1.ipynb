{
 "cells": [
  {
   "cell_type": "code",
   "execution_count": 3,
   "metadata": {},
   "outputs": [],
   "source": [
    "from sympy import *\n",
    "init_printing()"
   ]
  },
  {
   "cell_type": "code",
   "execution_count": 8,
   "metadata": {},
   "outputs": [
    {
     "data": {
      "image/png": "[encoded data removed]",
      "text/latex": [
       "$\\displaystyle - \\frac{\\alpha}{2} - \\frac{\\beta}{2} - \\frac{\\sqrt{- \\left(- \\alpha + \\beta + 2\\right) \\left(\\alpha - \\beta + 2\\right)}}{2}$"
      ],
      "text/plain": [
       "            ___________________________\n",
       "  α   β   ╲╱ -(-α + β + 2)⋅(α - β + 2) \n",
       "- ─ - ─ - ─────────────────────────────\n",
       "  2   2                 2              "
      ]
     },
     "execution_count": 8,
     "metadata": {},
     "output_type": "execute_result"
    }
   ],
   "source": [
    "t = Symbol('t', real = True)\n",
    "l = Symbol('lambda')\n",
    "al, be = symbols('alpha beta', real = True, positive = True)\n",
    "P = Eq(l**3 + (al + be)*l**2 + (1+al*be)*l,0)\n",
    "ev = solve(P,l)\n",
    "ev[1].simplify()"
   ]
  },
  {
   "cell_type": "code",
   "execution_count": 10,
   "metadata": {},
   "outputs": [
    {
     "data": {
      "image/png": "[encoded data removed]",
      "text/latex": [
       "$\\displaystyle \\left( \\frac{1}{s^{3} + s^{2} \\left(\\alpha + \\beta\\right) + s \\left(\\alpha \\beta + 1\\right)}, \\  \\frac{1}{- \\alpha - \\beta + i \\left(\\alpha \\beta + 1\\right) - i}\\right)$"
      ],
      "text/plain": [
       "⎛              1                           1            ⎞\n",
       "⎜─────────────────────────────, ────────────────────────⎟\n",
       "⎜ 3    2                        -α - β + ⅈ⋅(α⋅β + 1) - ⅈ⎟\n",
       "⎝s  + s ⋅(α + β) + s⋅(α⋅β + 1)                          ⎠"
      ]
     },
     "execution_count": 10,
     "metadata": {},
     "output_type": "execute_result"
    }
   ],
   "source": [
    "H = lambda s: 1/(s**3+(al+be)*s**2+(1+al*be)*s)\n",
    "H(Symbol('s')),H(I)"
   ]
  },
  {
   "cell_type": "code",
   "execution_count": 25,
   "metadata": {},
   "outputs": [
    {
     "data": {
      "image/png": "[encoded data removed]",
      "text/latex": [
       "$\\displaystyle - \\frac{e^{i t}}{- i \\alpha \\beta + \\alpha + \\beta}$"
      ],
      "text/plain": [
       "      ⅈ⋅t     \n",
       "    -ℯ        \n",
       "──────────────\n",
       "-ⅈ⋅α⋅β + α + β"
      ]
     },
     "execution_count": 25,
     "metadata": {},
     "output_type": "execute_result"
    }
   ],
   "source": [
    "x0 = (H(I)*exp(I*t))\n",
    "x0.simplify()"
   ]
  },
  {
   "cell_type": "code",
   "execution_count": 31,
   "metadata": {},
   "outputs": [
    {
     "data": {
      "image/png": "[encoded data removed]",
      "text/latex": [
       "$\\displaystyle - \\operatorname{im}{\\left(\\frac{e^{i t}}{- i \\alpha \\beta + \\alpha + \\beta}\\right)}$"
      ],
      "text/plain": [
       "   ⎛      ⅈ⋅t     ⎞\n",
       "   ⎜     ℯ        ⎟\n",
       "-im⎜──────────────⎟\n",
       "   ⎝-ⅈ⋅α⋅β + α + β⎠"
      ]
     },
     "execution_count": 31,
     "metadata": {},
     "output_type": "execute_result"
    }
   ],
   "source": [
    "im(x0).simplify()"
   ]
  },
  {
   "cell_type": "code",
   "execution_count": 29,
   "metadata": {},
   "outputs": [
    {
     "data": {
      "image/png": "[encoded data removed]",
      "text/latex": [
       "$\\displaystyle - \\frac{\\alpha \\beta \\cos{\\left(t \\right)}}{\\alpha^{2} \\beta^{2} + \\left(\\alpha + \\beta\\right)^{2}} + \\frac{\\left(- \\alpha - \\beta\\right) \\sin{\\left(t \\right)}}{\\alpha^{2} \\beta^{2} + \\left(\\alpha + \\beta\\right)^{2}}$"
      ],
      "text/plain": [
       "     α⋅β⋅cos(t)      (-α - β)⋅sin(t) \n",
       "- ──────────────── + ────────────────\n",
       "   2  2          2    2  2          2\n",
       "  α ⋅β  + (α + β)    α ⋅β  + (α + β) "
      ]
     },
     "execution_count": 29,
     "metadata": {},
     "output_type": "execute_result"
    }
   ],
   "source": [
    "im((-(al+be+I*al*be)/((al+be)**2+al**2*be**2))*exp(I*t))"
   ]
  }
 ],
 "metadata": {
  "kernelspec": {
   "display_name": "math",
   "language": "python",
   "name": "python3"
  },
  "language_info": {
   "codemirror_mode": {
    "name": "ipython",
    "version": 3
   },
   "file_extension": ".py",
   "mimetype": "text/x-python",
   "name": "python",
   "nbconvert_exporter": "python",
   "pygments_lexer": "ipython3",
   "version": "3.10.12"
  },
  "orig_nbformat": 4
 },
 "nbformat": 4,
 "nbformat_minor": 2
}
