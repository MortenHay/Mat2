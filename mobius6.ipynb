{
 "cells": [
  {
   "cell_type": "code",
   "execution_count": 1,
   "metadata": {},
   "outputs": [],
   "source": [
    "from sympy import *\n",
    "init_printing()"
   ]
  },
  {
   "cell_type": "code",
   "execution_count": 4,
   "metadata": {},
   "outputs": [
    {
     "data": {
      "image/png": "[encoded data removed]",
      "text/latex": [
       "$\\displaystyle \\frac{1}{-1 + e^{17}}$"
      ],
      "text/plain": [
       "   1    \n",
       "────────\n",
       "      17\n",
       "-1 + ℯ  "
      ]
     },
     "execution_count": 4,
     "metadata": {},
     "output_type": "execute_result"
    }
   ],
   "source": [
    "(exp(-17)/(1-exp(-17))).simplify()"
   ]
  },
  {
   "cell_type": "code",
   "execution_count": 5,
   "metadata": {},
   "outputs": [
    {
     "data": {
      "image/png": "[encoded data removed]",
      "text/latex": [
       "$\\displaystyle 14.0$"
      ],
      "text/plain": [
       "14.0"
      ]
     },
     "execution_count": 5,
     "metadata": {},
     "output_type": "execute_result"
    }
   ],
   "source": [
    "126/9"
   ]
  },
  {
   "cell_type": "code",
   "execution_count": 13,
   "metadata": {},
   "outputs": [
    {
     "data": {
      "image/png": "[encoded data removed]",
      "text/latex": [
       "$\\displaystyle \\frac{\\left(n^{4} + 5\\right) \\left|{x}\\right|}{4 \\left(\\left(n + 1\\right)^{4} + 5\\right)}$"
      ],
      "text/plain": [
       "  ⎛ 4    ⎞      \n",
       "  ⎝n  + 5⎠⋅│x│  \n",
       "────────────────\n",
       "  ⎛       4    ⎞\n",
       "4⋅⎝(n + 1)  + 5⎠"
      ]
     },
     "execution_count": 13,
     "metadata": {},
     "output_type": "execute_result"
    }
   ],
   "source": [
    "x = symbols('x')\n",
    "n = symbols('n', integer=True, positive = True)\n",
    "a = S(4)*x**3*x**n/((n**4+5)*4**n)\n",
    "abs((a.subs(n,n+1))/a).simplify()"
   ]
  },
  {
   "cell_type": "code",
   "execution_count": 16,
   "metadata": {},
   "outputs": [
    {
     "data": {
      "text/latex": [
       "$\\displaystyle \\begin{cases} \\frac{15 - 14 x}{\\left(x - 1\\right)^{2}} & \\text{for}\\: x > -1 \\wedge x < 1 \\\\\\sum_{n=0}^{\\infty} x^{n} \\left(n + 15\\right) & \\text{otherwise} \\end{cases}$"
      ],
      "text/plain": [
       "⎧    15 - 14⋅x                        \n",
       "⎪    ─────────      for x > -1 ∧ x < 1\n",
       "⎪            2                        \n",
       "⎪     (x - 1)                         \n",
       "⎪                                     \n",
       "⎪  ∞                                  \n",
       "⎨ ___                                 \n",
       "⎪ ╲                                   \n",
       "⎪  ╲    n                             \n",
       "⎪  ╱   x ⋅(n + 15)      otherwise     \n",
       "⎪ ╱                                   \n",
       "⎪ ‾‾‾                                 \n",
       "⎩n = 0                                "
      ]
     },
     "execution_count": 16,
     "metadata": {},
     "output_type": "execute_result"
    }
   ],
   "source": [
    "summation((n+15)*x**n, (n,0,oo)).simplify()"
   ]
  },
  {
   "cell_type": "code",
   "execution_count": 15,
   "metadata": {},
   "outputs": [
    {
     "data": {
      "image/png": "[encoded data removed]",
      "text/latex": [
       "$\\displaystyle x^{n} \\left(n + 15\\right)$"
      ],
      "text/plain": [
       " n         \n",
       "x ⋅(n + 15)"
      ]
     },
     "execution_count": 15,
     "metadata": {},
     "output_type": "execute_result"
    }
   ],
   "source": [
    "(n+15)*x**n"
   ]
  },
  {
   "cell_type": "code",
   "execution_count": 22,
   "metadata": {},
   "outputs": [
    {
     "data": {
      "text/latex": [
       "$\\displaystyle \\begin{cases} \\frac{- x - 11 \\left(x - 1\\right) \\log{\\left(1 - x \\right)}}{x - 1} & \\text{for}\\: x > -1 \\wedge x < 1 \\\\x \\sum_{n=0}^{\\infty} \\frac{n x^{n}}{n + 1} - 12 \\log{\\left(1 - x \\right)} & \\text{for}\\: x \\geq -1 \\wedge x < 1 \\\\x \\sum_{n=0}^{\\infty} \\frac{x^{n} \\left(n + 12\\right)}{n + 1} & \\text{otherwise} \\end{cases}$"
      ],
      "text/plain": [
       "⎧ -x - 11⋅(x - 1)⋅log(1 - x)                      \n",
       "⎪ ──────────────────────────    for x > -1 ∧ x < 1\n",
       "⎪           x - 1                                 \n",
       "⎪                                                 \n",
       "⎪    ∞                                            \n",
       "⎪   ____                                          \n",
       "⎪   ╲                                             \n",
       "⎪    ╲       n                                    \n",
       "⎪     ╲   n⋅x                                     \n",
       "⎪x⋅   ╱  ───── - 12⋅log(1 - x)  for x ≥ -1 ∧ x < 1\n",
       "⎪    ╱   n + 1                                    \n",
       "⎪   ╱                                             \n",
       "⎨   ‾‾‾‾                                          \n",
       "⎪  n = 0                                          \n",
       "⎪                                                 \n",
       "⎪         ∞                                       \n",
       "⎪        ____                                     \n",
       "⎪        ╲                                        \n",
       "⎪         ╲    n                                  \n",
       "⎪          ╲  x ⋅(n + 12)                         \n",
       "⎪     x⋅   ╱  ───────────           otherwise     \n",
       "⎪         ╱      n + 1                            \n",
       "⎪        ╱                                        \n",
       "⎪        ‾‾‾‾                                     \n",
       "⎩       n = 0                                     "
      ]
     },
     "execution_count": 22,
     "metadata": {},
     "output_type": "execute_result"
    }
   ],
   "source": [
    "summation((n+12)/(n+1)*x**(n+1), (n,0,oo)).simplify()"
   ]
  }
 ],
 "metadata": {
  "kernelspec": {
   "display_name": "math",
   "language": "python",
   "name": "python3"
  },
  "language_info": {
   "codemirror_mode": {
    "name": "ipython",
    "version": 3
   },
   "file_extension": ".py",
   "mimetype": "text/x-python",
   "name": "python",
   "nbconvert_exporter": "python",
   "pygments_lexer": "ipython3",
   "version": "3.10.12"
  }
 },
 "nbformat": 4,
 "nbformat_minor": 2
}
