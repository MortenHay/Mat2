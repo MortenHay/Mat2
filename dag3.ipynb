{
 "cells": [
  {
   "cell_type": "code",
   "execution_count": 9,
   "metadata": {},
   "outputs": [],
   "source": [
    "from sympy import *\n",
    "import matplotlib as plt\n",
    "init_printing()"
   ]
  },
  {
   "cell_type": "code",
   "execution_count": 14,
   "metadata": {},
   "outputs": [],
   "source": [
    "e = lambda x: exp(x)\n",
    "j = I"
   ]
  },
  {
   "cell_type": "code",
   "execution_count": 29,
   "metadata": {},
   "outputs": [
    {
     "data": {
      "image/png": "[encoded data removed]",
      "text/latex": [
       "$\\displaystyle \\left( \\frac{s}{s^{2} - 3 s + 5}, \\  \\left\\{ \\frac{3}{2} - \\frac{\\sqrt{11} i}{2} : 1, \\  \\frac{3}{2} + \\frac{\\sqrt{11} i}{2} : 1\\right\\}\\right)$"
      ],
      "text/plain": [
       "⎛     s        ⎧3   √11⋅ⅈ     3   √11⋅ⅈ   ⎫⎞\n",
       "⎜────────────, ⎨─ - ─────: 1, ─ + ─────: 1⎬⎟\n",
       "⎜ 2            ⎩2     2       2     2     ⎭⎟\n",
       "⎝s  - 3⋅s + 5                              ⎠"
      ]
     },
     "execution_count": 29,
     "metadata": {},
     "output_type": "execute_result"
    }
   ],
   "source": [
    "# Opgave 417 i\n",
    "A = Matrix([[2,-1],[3,1]])\n",
    "b = Matrix([0,-1])\n",
    "d = Matrix([2,-1])\n",
    "s = symbols('s')\n",
    "t = symbols('t', real=True)\n",
    "\n",
    "H = (-d.transpose()*(A-s*Matrix([[1,0],[0,1]])).inv()*b)[0]\n",
    "H.simplify(), A.eigenvals()"
   ]
  },
  {
   "cell_type": "code",
   "execution_count": 36,
   "metadata": {},
   "outputs": [
    {
     "data": {
      "image/png": "[encoded data removed]",
      "text/latex": [
       "$\\displaystyle - \\frac{4 \\sin{\\left(t \\right)}}{25} - \\frac{3 \\cos{\\left(t \\right)}}{25}$"
      ],
      "text/plain": [
       "  4⋅sin(t)   3⋅cos(t)\n",
       "- ──────── - ────────\n",
       "     25         25   "
      ]
     },
     "execution_count": 36,
     "metadata": {},
     "output_type": "execute_result"
    }
   ],
   "source": [
    "# Opgave 417 ii\n",
    "uc = exp(j*t)\n",
    "yc = H.subs({s: j})*uc\n",
    "re(yc)"
   ]
  },
  {
   "cell_type": "code",
   "execution_count": 79,
   "metadata": {},
   "outputs": [
    {
     "data": {
      "image/png": "[encoded data removed]",
      "text/latex": [
       "$\\displaystyle \\left( 1, \\  -23\\right)$"
      ],
      "text/plain": [
       "(1, -23)"
      ]
     },
     "execution_count": 79,
     "metadata": {},
     "output_type": "execute_result"
    }
   ],
   "source": [
    "#Opgave 422 i\n",
    "A = Matrix([[1,7],[3,-2]])\n",
    "P = A.charpoly().as_expr()\n",
    "a1 = P.coeff(Symbol('lambda'),1)\n",
    "a2 = P.coeff(Symbol('lambda'),0)\n",
    "a1,a2"
   ]
  },
  {
   "cell_type": "code",
   "execution_count": 86,
   "metadata": {},
   "outputs": [
    {
     "data": {
      "image/png": "[encoded data removed]",
      "text/latex": [
       "$\\displaystyle \\left( 1, \\  4, \\  1, \\  3\\right)$"
      ],
      "text/plain": [
       "(1, 4, 1, 3)"
      ]
     },
     "execution_count": 86,
     "metadata": {},
     "output_type": "execute_result"
    }
   ],
   "source": [
    "#Opgave 422 ii\n",
    "A = Matrix([[-1,1,0],[-5,-1,1],[-7,0,1]])\n",
    "P = A.charpoly().as_expr()\n",
    "a1 = P.coeff(Symbol('lambda'),2)\n",
    "a2 = P.coeff(Symbol('lambda'),1)\n",
    "a3 = P.coeff(Symbol('lambda'),0)\n",
    "a1,a2,a3,Determinant(Matrix([[a1,a3],[1,a2]])).doit()"
   ]
  },
  {
   "cell_type": "code",
   "execution_count": 119,
   "metadata": {},
   "outputs": [
    {
     "data": {
      "image/png": "[encoded data removed]",
      "text/latex": [
       "$\\displaystyle - a + \\lambda^{2} + \\lambda \\left(- a - 1\\right)$"
      ],
      "text/plain": [
       "      2             \n",
       "-a + λ  + λ⋅(-a - 1)"
      ]
     },
     "execution_count": 119,
     "metadata": {},
     "output_type": "execute_result"
    }
   ],
   "source": [
    "#Opgave 507 i\n",
    "a = Symbol('a')\n",
    "A = Matrix([[a,2],[a,1]])\n",
    "A.charpoly().as_expr()"
   ]
  },
  {
   "cell_type": "code",
   "execution_count": 120,
   "metadata": {},
   "outputs": [
    {
     "data": {
      "text/latex": [
       "$\\displaystyle \\left[ \\left( - i, \\  1, \\  \\left[ \\left[\\begin{matrix}1 + i\\\\1\\end{matrix}\\right]\\right]\\right), \\  \\left( i, \\  1, \\  \\left[ \\left[\\begin{matrix}1 - i\\\\1\\end{matrix}\\right]\\right]\\right)\\right]$"
      ],
      "text/plain": [
       "⎡⎛       ⎡⎡1 + ⅈ⎤⎤⎞  ⎛      ⎡⎡1 - ⅈ⎤⎤⎞⎤\n",
       "⎢⎜-ⅈ, 1, ⎢⎢     ⎥⎥⎟, ⎜ⅈ, 1, ⎢⎢     ⎥⎥⎟⎥\n",
       "⎣⎝       ⎣⎣  1  ⎦⎦⎠  ⎝      ⎣⎣  1  ⎦⎦⎠⎦"
      ]
     },
     "execution_count": 120,
     "metadata": {},
     "output_type": "execute_result"
    }
   ],
   "source": [
    "#Opgave 507 ii\n",
    "A.subs({a:-1}).eigenvects()"
   ]
  },
  {
   "cell_type": "code",
   "execution_count": 121,
   "metadata": {},
   "outputs": [
    {
     "data": {
      "text/latex": [
       "$\\displaystyle \\left[ \\left( 0, \\  1, \\  \\left[ \\left[\\begin{matrix}1\\\\0\\end{matrix}\\right]\\right]\\right), \\  \\left( 1, \\  1, \\  \\left[ \\left[\\begin{matrix}2\\\\1\\end{matrix}\\right]\\right]\\right)\\right]$"
      ],
      "text/plain": [
       "⎡⎛      ⎡⎡1⎤⎤⎞  ⎛      ⎡⎡2⎤⎤⎞⎤\n",
       "⎢⎜0, 1, ⎢⎢ ⎥⎥⎟, ⎜1, 1, ⎢⎢ ⎥⎥⎟⎥\n",
       "⎣⎝      ⎣⎣0⎦⎦⎠  ⎝      ⎣⎣1⎦⎦⎠⎦"
      ]
     },
     "execution_count": 121,
     "metadata": {},
     "output_type": "execute_result"
    }
   ],
   "source": [
    "#Opgave 507 iii\n",
    "A.subs({a:0}).eigenvects()"
   ]
  },
  {
   "cell_type": "code",
   "execution_count": 122,
   "metadata": {},
   "outputs": [
    {
     "data": {
      "text/latex": [
       "$\\displaystyle \\left[\\begin{matrix}c_{2} \\sin{\\left(t \\right)} - c_{3} \\cos{\\left(t \\right)}\\\\c_{1} - c_{2} \\left(\\sin{\\left(t \\right)} + 2 \\cos{\\left(t \\right)}\\right) - c_{3} \\cdot \\left(2 \\sin{\\left(t \\right)} - \\cos{\\left(t \\right)}\\right)\\\\c_{2} \\cos{\\left(t \\right)} + c_{3} \\sin{\\left(t \\right)}\\end{matrix}\\right]$"
      ],
      "text/plain": [
       "⎡               c₂⋅sin(t) - c₃⋅cos(t)                ⎤\n",
       "⎢                                                    ⎥\n",
       "⎢c₁ - c₂⋅(sin(t) + 2⋅cos(t)) - c₃⋅(2⋅sin(t) - cos(t))⎥\n",
       "⎢                                                    ⎥\n",
       "⎣               c₂⋅cos(t) + c₃⋅sin(t)                ⎦"
      ]
     },
     "execution_count": 122,
     "metadata": {},
     "output_type": "execute_result"
    }
   ],
   "source": [
    "#Opgave 411 iii\n",
    "c1,c2,c3,t=symbols('c_1,c_2,c_3,t',real=True)\n",
    "A=Matrix([[0,0,1],[2,0,-1],[-1,0,0]])\n",
    "Av=A.eigenvects()\n",
    "xc=c1*exp(t*Av[0][0])*Av[0][2][0]+c2*exp(t*Av[1][0])*Av[1][2][0]+c3*exp(t*Av[2][0])*Av[2][2][0]\n",
    "a, b = re(Av[2][0]), im(Av[2][0])\n",
    "cexp = exp(a*t)*(cos(b*t) + I*sin(b*t))\n",
    "xr = c1*exp(t*Av[0][0])*Av[0][2][0] + c2*re(cexp*Av[2][2][0]) + c3*im(cexp*Av[2][2][0])\n",
    "xr.simplify()\n",
    "\n",
    "#Stabilt men ikke asymptotisk"
   ]
  },
  {
   "cell_type": "code",
   "execution_count": null,
   "metadata": {},
   "outputs": [],
   "source": []
  }
 ],
 "metadata": {
  "kernelspec": {
   "display_name": "math",
   "language": "python",
   "name": "python3"
  },
  "language_info": {
   "codemirror_mode": {
    "name": "ipython",
    "version": 3
   },
   "file_extension": ".py",
   "mimetype": "text/x-python",
   "name": "python",
   "nbconvert_exporter": "python",
   "pygments_lexer": "ipython3",
   "version": "3.10.13"
  },
  "orig_nbformat": 4
 },
 "nbformat": 4,
 "nbformat_minor": 2
}
